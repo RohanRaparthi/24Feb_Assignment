{
 "cells": [
  {
   "cell_type": "markdown",
   "id": "971e60fa-65f5-4eee-a829-8f5fdb63ece8",
   "metadata": {},
   "source": [
    "# Answer13:\n",
    "###  To use the basic functions of pandas, the first and foremost necessary library that needs tobe imported is pandas library. Pandas is an open source library in Python. It provides ready to use high-performance data structures and data analysis tools. Pandas module runs on top of NumPy and it is popularly used for data science and data analytics"
   ]
  },
  {
   "cell_type": "markdown",
   "id": "3167acdb-dd33-4690-8307-ef60d47db9a5",
   "metadata": {},
   "source": [
    "# Answer12:\n",
    "### def func():\n",
    "      df.loc[0:30] or\n",
    "      df.iloc[0:31] or\n",
    "      df[0:31:1]\n"
   ]
  },
  {
   "cell_type": "markdown",
   "id": "790923e9-b164-4518-8914-cb784e4a0755",
   "metadata": {},
   "source": [
    "# Answer11:\n"
   ]
  },
  {
   "cell_type": "code",
   "execution_count": 7,
   "id": "7cdf9e10-f826-4872-854e-3618c9940e4a",
   "metadata": {},
   "outputs": [
    {
     "name": "stdout",
     "output_type": "stream",
     "text": [
      "         Date\n",
      "0  2023-01-01\n",
      "1  2023-01-02\n",
      "2  2023-01-03\n",
      "3  2023-01-04\n",
      "4  2023-01-05\n"
     ]
    },
    {
     "data": {
      "text/html": [
       "<div>\n",
       "<style scoped>\n",
       "    .dataframe tbody tr th:only-of-type {\n",
       "        vertical-align: middle;\n",
       "    }\n",
       "\n",
       "    .dataframe tbody tr th {\n",
       "        vertical-align: top;\n",
       "    }\n",
       "\n",
       "    .dataframe thead th {\n",
       "        text-align: right;\n",
       "    }\n",
       "</style>\n",
       "<table border=\"1\" class=\"dataframe\">\n",
       "  <thead>\n",
       "    <tr style=\"text-align: right;\">\n",
       "      <th></th>\n",
       "      <th>Date</th>\n",
       "      <th>Weekday</th>\n",
       "    </tr>\n",
       "  </thead>\n",
       "  <tbody>\n",
       "    <tr>\n",
       "      <th>0</th>\n",
       "      <td>2023-01-01</td>\n",
       "      <td>Sunday</td>\n",
       "    </tr>\n",
       "    <tr>\n",
       "      <th>1</th>\n",
       "      <td>2023-01-02</td>\n",
       "      <td>Monday</td>\n",
       "    </tr>\n",
       "    <tr>\n",
       "      <th>2</th>\n",
       "      <td>2023-01-03</td>\n",
       "      <td>Tuesday</td>\n",
       "    </tr>\n",
       "    <tr>\n",
       "      <th>3</th>\n",
       "      <td>2023-01-04</td>\n",
       "      <td>Wednesday</td>\n",
       "    </tr>\n",
       "    <tr>\n",
       "      <th>4</th>\n",
       "      <td>2023-01-05</td>\n",
       "      <td>Thursday</td>\n",
       "    </tr>\n",
       "  </tbody>\n",
       "</table>\n",
       "</div>"
      ],
      "text/plain": [
       "         Date    Weekday\n",
       "0  2023-01-01     Sunday\n",
       "1  2023-01-02     Monday\n",
       "2  2023-01-03    Tuesday\n",
       "3  2023-01-04  Wednesday\n",
       "4  2023-01-05   Thursday"
      ]
     },
     "execution_count": 7,
     "metadata": {},
     "output_type": "execute_result"
    }
   ],
   "source": [
    "import pandas as pd\n",
    "Data={'Date':['2023-01-01','2023-01-02','2023-01-03','2023-01-04','2023-01-05']}\n",
    "df=pd.DataFrame(Data)\n",
    "print(df)\n",
    "Weekday=['Sunday','Monday','Tuesday','Wednesday','Thursday']\n",
    "df['Weekday']=Weekday\n",
    "df\n"
   ]
  },
  {
   "cell_type": "markdown",
   "id": "828f1534-69c8-4d42-8602-607aba2d903f",
   "metadata": {},
   "source": [
    "# Answer9:\n",
    "### def func():\n",
    "    return df['Values'].mean()\n",
    "    return df['Values'].median()\n",
    "    return df['Values'].std()"
   ]
  },
  {
   "cell_type": "markdown",
   "id": "c8b84eaf-74ce-4f80-be4e-86eac710dd8b",
   "metadata": {},
   "source": [
    "# Answer8:\n"
   ]
  },
  {
   "cell_type": "code",
   "execution_count": 16,
   "id": "b9c04ef3-8618-4d6f-aa47-c704ac13f7a6",
   "metadata": {},
   "outputs": [
    {
     "data": {
      "text/html": [
       "<div>\n",
       "<style scoped>\n",
       "    .dataframe tbody tr th:only-of-type {\n",
       "        vertical-align: middle;\n",
       "    }\n",
       "\n",
       "    .dataframe tbody tr th {\n",
       "        vertical-align: top;\n",
       "    }\n",
       "\n",
       "    .dataframe thead th {\n",
       "        text-align: right;\n",
       "    }\n",
       "</style>\n",
       "<table border=\"1\" class=\"dataframe\">\n",
       "  <thead>\n",
       "    <tr style=\"text-align: right;\">\n",
       "      <th></th>\n",
       "      <th>A</th>\n",
       "      <th>B</th>\n",
       "      <th>C</th>\n",
       "    </tr>\n",
       "  </thead>\n",
       "  <tbody>\n",
       "    <tr>\n",
       "      <th>1</th>\n",
       "      <td>8</td>\n",
       "      <td>2</td>\n",
       "      <td>7</td>\n",
       "    </tr>\n",
       "    <tr>\n",
       "      <th>2</th>\n",
       "      <td>6</td>\n",
       "      <td>9</td>\n",
       "      <td>4</td>\n",
       "    </tr>\n",
       "    <tr>\n",
       "      <th>4</th>\n",
       "      <td>9</td>\n",
       "      <td>1</td>\n",
       "      <td>2</td>\n",
       "    </tr>\n",
       "  </tbody>\n",
       "</table>\n",
       "</div>"
      ],
      "text/plain": [
       "   A  B  C\n",
       "1  8  2  7\n",
       "2  6  9  4\n",
       "4  9  1  2"
      ]
     },
     "execution_count": 16,
     "metadata": {},
     "output_type": "execute_result"
    }
   ],
   "source": [
    "data={'A':[3,8,6,2,9],'B':[5,2,9,3,1],'C':[1,7,4,5,2]}\n",
    "df1=pd.DataFrame(data)\n",
    "df1[(df1['A']>5)&(df1['B']<10)]"
   ]
  },
  {
   "cell_type": "markdown",
   "id": "9c2f798a-722b-4bdd-9045-e99f9aa9c85b",
   "metadata": {},
   "source": [
    "# Answer7:\n",
    "### def username(text):\n",
    "    data['Username']=data['Email'].str.split('@').str[0]"
   ]
  },
  {
   "cell_type": "markdown",
   "id": "0b4337ba-3f0a-4a85-8007-acd4daa974a7",
   "metadata": {},
   "source": [
    "# Answer6:\n",
    "### We can use the pandas module read_excel() function to read the excel file data into a DataFrame object. If you look at an excel sheet, it's a two-dimensional table. The DataFrame object also represents a two-dimensional tabular data structure.\n",
    "### data=pd.read_excel(\"FinancialSample.xlsx\")"
   ]
  },
  {
   "cell_type": "markdown",
   "id": "186d6c24-f768-41f8-8ecd-8db2aad643b8",
   "metadata": {},
   "source": [
    "# Answer5:\n",
    "### data.shape gives the no of rows and columns in a data set\n",
    "\n",
    "### data.size gives no of elemnets present in the data set"
   ]
  },
  {
   "cell_type": "markdown",
   "id": "ff495ddf-ba95-404d-81c7-6a412f822b76",
   "metadata": {},
   "source": [
    "# Answer4:\n",
    "### def newColumn(data):\n",
    "    data['Word_Count']=data['Text'].str.len()\n",
    "\n",
    "       data"
   ]
  },
  {
   "cell_type": "markdown",
   "id": "a855db0f-8bb1-44ee-90a5-d862429a6d88",
   "metadata": {},
   "source": [
    "# Answer3:\n",
    "### def print3(data):\n",
    "       l=list(data['Values'])\n",
    "       j=0\n",
    "       sum=0\n",
    "       for i in l:\n",
    "            if(j<3):\n",
    "                sum=sum+i\n",
    "                j=j+1\n",
    "       print(sum)"
   ]
  },
  {
   "cell_type": "markdown",
   "id": "5b1682a8-a964-416d-bbc7-0567365b5ed9",
   "metadata": {},
   "source": [
    "# Answer2:\n",
    "### def indexupdate(data):\n",
    "    data=data.reset_index()\n",
    "    data.index=pd.RangeIndex(start=1, stop=2*len(data)+1, step=2)\n",
    "    del data['index']\n",
    "    print(data)\n"
   ]
  },
  {
   "cell_type": "markdown",
   "id": "036012d2-836a-4d00-ac0f-ddf49127f168",
   "metadata": {},
   "source": [
    "# Answer1:"
   ]
  },
  {
   "cell_type": "code",
   "execution_count": null,
   "id": "ffb57768-088e-42fe-8bda-3f0b03317734",
   "metadata": {},
   "outputs": [],
   "source": [
    "import pandas as pd\n",
    "data=pd.read_csv(r'cardata.csv')\n",
    "data\n",
    "data.head()\n",
    "data.head(7)\n",
    "data.tail()\n",
    "data.tail(7)\n",
    "data.describe()\n",
    "data.dtypes\n",
    "data.columns\n",
    "data.iloc[1]\n",
    "data.shape\n",
    "data.size"
   ]
  },
  {
   "cell_type": "code",
   "execution_count": null,
   "id": "ab209c8e-ffc4-4534-850d-0109f0c2d5e8",
   "metadata": {},
   "outputs": [],
   "source": []
  }
 ],
 "metadata": {
  "kernelspec": {
   "display_name": "Python 3 (ipykernel)",
   "language": "python",
   "name": "python3"
  },
  "language_info": {
   "codemirror_mode": {
    "name": "ipython",
    "version": 3
   },
   "file_extension": ".py",
   "mimetype": "text/x-python",
   "name": "python",
   "nbconvert_exporter": "python",
   "pygments_lexer": "ipython3",
   "version": "3.10.8"
  }
 },
 "nbformat": 4,
 "nbformat_minor": 5
}
